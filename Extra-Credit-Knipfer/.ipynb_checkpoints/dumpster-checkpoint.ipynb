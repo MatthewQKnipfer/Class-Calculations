{
 "cells": [
  {
   "cell_type": "markdown",
   "metadata": {},
   "source": [
    "# Designing a Dumpster\n",
    "### *Matthew Q. Knipfer*"
   ]
  },
  {
   "cell_type": "markdown",
   "metadata": {},
   "source": [
    "------"
   ]
  },
  {
   "cell_type": "code",
   "execution_count": 1,
   "metadata": {
    "collapsed": false,
    "inputHidden": false,
    "outputHidden": false
   },
   "outputs": [],
   "source": [
    "import numpy as np\n",
    "import PIL"
   ]
  },
  {
   "cell_type": "markdown",
   "metadata": {},
   "source": [
    "## Instructions"
   ]
  },
  {
   "cell_type": "markdown",
   "metadata": {},
   "source": [
    "### For this project we locate a rectangular trash Dumpster in order to study its shape and construction. We then attempt to determine the dimensions of a container of similar design that minimize construction cost."
   ]
  },
  {
   "cell_type": "markdown",
   "metadata": {},
   "source": [
    "------\n",
    "------"
   ]
  },
  {
   "cell_type": "markdown",
   "metadata": {},
   "source": [
    "#### 1. First locate a trash Dumpster in your area. Carefully study and describe all details of its construction, and determine its volume. Include a sketch of the container."
   ]
  },
  {
   "cell_type": "markdown",
   "metadata": {},
   "source": [
    "-------"
   ]
  },
  {
   "cell_type": "markdown",
   "metadata": {
    "inputHidden": false,
    "outputHidden": false
   },
   "source": [
    "<img src=\"6-yard-dumpster.jpg\" alt=\"Ol' Faithful\">\n",
    "\n",
    "> I didn't have a tape measurer so I went onto Waste Management's website and perused the available dumpsters.  The rentals were rather expensive, so I went with ol' faithful.  Isn't she a beaut?  The other bins had slants that were not labeled for their tilt or length, so it was more reasonable to use a rectangular prism.  If we let w stand for width (6'), d stand for depth (5'), and h stand for height (6'), her dimensions are w * d * h = 6 * 5 * 6."
   ]
  },
  {
   "cell_type": "markdown",
   "metadata": {},
   "source": [
    ">Her volume is simply:"
   ]
  },
  {
   "cell_type": "code",
   "execution_count": 2,
   "metadata": {},
   "outputs": [
    {
     "name": "stdout",
     "output_type": "stream",
     "text": [
      "180\n",
      "feet cubed\n"
     ]
    }
   ],
   "source": [
    "w = 6\n",
    "d = 5\n",
    "h = 6\n",
    "\n",
    "print(w*d*h)\n",
    "print('feet cubed')"
   ]
  },
  {
   "cell_type": "markdown",
   "metadata": {},
   "source": [
    "------\n",
    "-------"
   ]
  },
  {
   "cell_type": "markdown",
   "metadata": {},
   "source": [
    "#### 2. While maintaining the general shape and method of construction, determine the dimensions such a container of the same volume should have in order to minimize the cost of construction. Use the following assumptions in your analysis:"
   ]
  },
  {
   "cell_type": "markdown",
   "metadata": {},
   "source": [
    "- The sides, back, and front are to be made from 12-gauge (0.1046 inch thick) steel sheets, which cost 0.70 USD per square foot (including any required cuts or bends).\n",
    "- The base is to be made from a 10-gauge (0.1345 inch thick) steel sheet, which costs 0.90 USD per square foot.\n",
    "- Lids cost approximately 50.00 USD each, regardless of dimensions.\n",
    "- Welding costs approximately 0.18 USD per foot for material and labor combined.\n",
    "- Give justification of any further assumptions or simplifications made of the details of construction."
   ]
  },
  {
   "cell_type": "markdown",
   "metadata": {},
   "source": [
    "------"
   ]
  },
  {
   "cell_type": "markdown",
   "metadata": {},
   "source": [
    "##### Assumptions"
   ]
  },
  {
   "cell_type": "markdown",
   "metadata": {},
   "source": [
    "> For the sake of not getting too nitty gritty, let's clarify that the rectangular prism of waste containment is all we will be dealing with.  I could run calculations for hours on the jutting side pieces, but that's irrelevant to the focus of the volume.  I will discuss in part 3 what effect this assumption has."
   ]
  },
  {
   "cell_type": "markdown",
   "metadata": {},
   "source": [
    "> I will assume that the question's general shape description would permit adjustments that retain the rectangular prism aspect.  Obviously a bowl atop a small place would be very efficient, but that's not at all close to the current dumpster's design.  If this question intended for that to mean a preservation of some ratios, that is not mentioned.  Otherwise, I would anticipated the width, w, to be the most significant to preserve since it determines the width of the prongs to hoist the bin.  We can disregard this since adjustments to the dimensions of this model would likely result in adjustments to the rest of Waste Management's offering."
   ]
  },
  {
   "cell_type": "markdown",
   "metadata": {},
   "source": [
    "##### Calculations"
   ]
  },
  {
   "cell_type": "markdown",
   "metadata": {},
   "source": [
    "> First, let's clear our variables."
   ]
  },
  {
   "cell_type": "code",
   "execution_count": 3,
   "metadata": {},
   "outputs": [],
   "source": [
    "w = None\n",
    "d = None\n",
    "h = None"
   ]
  },
  {
   "cell_type": "markdown",
   "metadata": {},
   "source": [
    "> Next, let's define the current cost of the bin we have with information we are given.  There is one base of w*d, two sides of w*h, two sides of d*z, two edges to weld of w, two edges to weld of d, and four edges to weld of h.  We don't have to weld the lid."
   ]
  },
  {
   "cell_type": "code",
   "execution_count": 4,
   "metadata": {},
   "outputs": [
    {
     "data": {
      "text/latex": [
       "$$A(w) = 50 + 0.90wd + (2*0.1046)(wh + dh) + 2w + 2d + 4h$$"
      ],
      "text/plain": [
       "<IPython.core.display.Math object>"
      ]
     },
     "execution_count": 4,
     "metadata": {},
     "output_type": "execute_result"
    }
   ],
   "source": [
    "from IPython.display import Math\n",
    "Math(r'A(w) = 50 + 0.90wd + (2*0.1046)(wh + dh) + 2w + 2d + 4h')"
   ]
  },
  {
   "cell_type": "code",
   "execution_count": 5,
   "metadata": {},
   "outputs": [
    {
     "data": {
      "text/plain": [
       "'$136.8072'"
      ]
     },
     "execution_count": 5,
     "metadata": {},
     "output_type": "execute_result"
    }
   ],
   "source": [
    "def A(w,d,h):\n",
    "    return '$' + str(50 + 0.90*w*d + (2*0.1046)*(w*h + d*h) + 2*w + 2*d + 4*h)\n",
    "\n",
    "A(6,5,6)"
   ]
  },
  {
   "cell_type": "markdown",
   "metadata": {},
   "source": [
    "> Now, let's refer to the assumption we made of allowing all of the dimensions of the dumpster to change.  The most efficient volume to material ratio (when costs of material around the sides are equal) is to have the base be a square.  Let's have d = w to achieve this."
   ]
  },
  {
   "cell_type": "markdown",
   "metadata": {},
   "source": [
    "> Also, as the problem mentions, the volume must remain the same.  Therefore we have another equation at our disposal.  Since d = w, we know 180 = w^2 * h."
   ]
  },
  {
   "cell_type": "markdown",
   "metadata": {},
   "source": [
    "> Thus, through manipulation, we have h = 180/(w^2).  Let's substitute this back into our cost function so as to reduce it to one variable."
   ]
  },
  {
   "cell_type": "code",
   "execution_count": 6,
   "metadata": {},
   "outputs": [
    {
     "data": {
      "text/latex": [
       "$$B(w) = 50 + 0.90*w^2 + (2*0.1046)*(360/w) + 4w + 4*180/w^2$$"
      ],
      "text/plain": [
       "<IPython.core.display.Math object>"
      ]
     },
     "execution_count": 6,
     "metadata": {},
     "output_type": "execute_result"
    }
   ],
   "source": [
    "Math(r'B(w) = 50 + 0.90*w^2 + (2*0.1046)*(360/w) + 4w + 4*180/w^2')"
   ]
  },
  {
   "cell_type": "markdown",
   "metadata": {},
   "source": [
    "> The derivative of this cost function is as such:"
   ]
  },
  {
   "cell_type": "code",
   "execution_count": 7,
   "metadata": {},
   "outputs": [
    {
     "data": {
      "text/latex": [
       "$$ d/dwB(w) = 1.80w - 75.3210/w^2 + 4 - 1440/w^3$$"
      ],
      "text/plain": [
       "<IPython.core.display.Math object>"
      ]
     },
     "execution_count": 7,
     "metadata": {},
     "output_type": "execute_result"
    }
   ],
   "source": [
    "Math(r' d/dwB(w) = 1.80w - 75.3210/w^2 + 4 - 1440/w^3')"
   ]
  },
  {
   "cell_type": "markdown",
   "metadata": {},
   "source": [
    "> Next, to find the maxima and minima, we calculate the points at which the derivative equals zero.  I don't want the derivative packages to not later function, so computing this in maple, the critical points are as such:"
   ]
  },
  {
   "cell_type": "code",
   "execution_count": 8,
   "metadata": {},
   "outputs": [
    {
     "data": {
      "text/latex": [
       "$$5.162428138, -0.9183910708+5.204715110i, -5.547868218, -0.9183910708-5.204715110i$$"
      ],
      "text/plain": [
       "<IPython.core.display.Math object>"
      ]
     },
     "execution_count": 8,
     "metadata": {},
     "output_type": "execute_result"
    }
   ],
   "source": [
    "Math(r'5.162428138, -0.9183910708+5.204715110i, -5.547868218, -0.9183910708-5.204715110i')"
   ]
  },
  {
   "cell_type": "markdown",
   "metadata": {},
   "source": [
    "> Of the options, 5.162428138 is the only positive output that is not complex.  Therefore, that's our value for w.  Let's find h by substituting that into our volume constraint."
   ]
  },
  {
   "cell_type": "code",
   "execution_count": 9,
   "metadata": {},
   "outputs": [
    {
     "name": "stdout",
     "output_type": "stream",
     "text": [
      "6.754053036305947\n"
     ]
    }
   ],
   "source": [
    "print (180/(5.162428138*5.162428138))"
   ]
  },
  {
   "cell_type": "markdown",
   "metadata": {},
   "source": [
    "> Now that we have our optimized values for h and w, w also defining d, we can compute our cost function."
   ]
  },
  {
   "cell_type": "code",
   "execution_count": 10,
   "metadata": {},
   "outputs": [
    {
     "data": {
      "text/plain": [
       "'$136.24000649260387'"
      ]
     },
     "execution_count": 10,
     "metadata": {},
     "output_type": "execute_result"
    }
   ],
   "source": [
    "w = None\n",
    "d = None\n",
    "h = None\n",
    "\n",
    "def B(w,h):\n",
    "    return '$' + str(50 + 0.90*w*w + (2*0.1046)*(2*w*h) + 4*w + 4*h)\n",
    "\n",
    "B(5.162428138, 6.75405303630597547)"
   ]
  },
  {
   "cell_type": "markdown",
   "metadata": {},
   "source": [
    "> Thus, with new dimensions of about 5.1624ft wide, 5.1624ft deep, and 6.7541ft high, our new cost is about $136.24"
   ]
  },
  {
   "cell_type": "code",
   "execution_count": 11,
   "metadata": {},
   "outputs": [
    {
     "data": {
      "text/plain": [
       "0.5671999999999855"
      ]
     },
     "execution_count": 11,
     "metadata": {},
     "output_type": "execute_result"
    }
   ],
   "source": [
    "136.8072 - 136.24"
   ]
  },
  {
   "cell_type": "markdown",
   "metadata": {},
   "source": [
    "> Those savings are pathetic."
   ]
  },
  {
   "cell_type": "markdown",
   "metadata": {},
   "source": [
    "-----\n",
    "-----"
   ]
  },
  {
   "cell_type": "markdown",
   "metadata": {},
   "source": [
    "#### 3. Describe how any of your assumptions or simplifications may affect the final result."
   ]
  },
  {
   "cell_type": "markdown",
   "metadata": {},
   "source": [
    "-----"
   ]
  },
  {
   "cell_type": "markdown",
   "metadata": {},
   "source": [
    "> The lip at the top and the holes for being raised on the side would affect the outcome since they would be made of 12-gauge rather than 10-gauge steel.  The adjustment wouldn't be major, but would affect the outcome by at least a few inches in each dimension."
   ]
  },
  {
   "cell_type": "markdown",
   "metadata": {},
   "source": [
    "> The square base assumption obviously affects the result by forcing a specific base shape, but without this assumption, there would be very little freedom for changes.  The savings would likely only amount to twenty cents otherwise."
   ]
  },
  {
   "cell_type": "markdown",
   "metadata": {},
   "source": [
    "-----\n",
    "-----"
   ]
  },
  {
   "cell_type": "markdown",
   "metadata": {},
   "source": [
    "#### 4. If you were hired as a consultant on this investigation, what would your conclusions be? Would you recommend altering the design of the Dumpster? If so, describe the savings that would result."
   ]
  },
  {
   "cell_type": "markdown",
   "metadata": {},
   "source": [
    "-----"
   ]
  },
  {
   "cell_type": "markdown",
   "metadata": {},
   "source": [
    "> Of course not!  Those savings are pathetic, and adjusting the size of the bins would also require adjusting the width of the prongs on the trucks to collect them.  Look at the % savings:"
   ]
  },
  {
   "cell_type": "code",
   "execution_count": 12,
   "metadata": {},
   "outputs": [
    {
     "data": {
      "text/plain": [
       "0.004145980620902888"
      ]
     },
     "execution_count": 12,
     "metadata": {},
     "output_type": "execute_result"
    }
   ],
   "source": [
    "(136.8072 - 136.24)/136.8072"
   ]
  },
  {
   "cell_type": "markdown",
   "metadata": {},
   "source": [
    "> That's not even a whole percent!  No, don't change a thing.  Waste Management is doing just fine."
   ]
  },
  {
   "cell_type": "code",
   "execution_count": null,
   "metadata": {},
   "outputs": [],
   "source": []
  }
 ],
 "metadata": {
  "kernel_info": {
   "name": "python3"
  },
  "kernelspec": {
   "display_name": "Python 3",
   "language": "python",
   "name": "python3"
  },
  "language_info": {
   "codemirror_mode": {
    "name": "ipython",
    "version": 3
   },
   "file_extension": ".py",
   "mimetype": "text/x-python",
   "name": "python",
   "nbconvert_exporter": "python",
   "pygments_lexer": "ipython3",
   "version": "3.7.0"
  },
  "nteract": {
   "version": "0.12.3"
  }
 },
 "nbformat": 4,
 "nbformat_minor": 2
}
